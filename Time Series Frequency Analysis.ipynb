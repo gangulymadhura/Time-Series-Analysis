{
 "cells": [
  {
   "cell_type": "code",
   "execution_count": 1,
   "metadata": {
    "ExecuteTime": {
     "end_time": "2020-10-21T06:35:13.946251Z",
     "start_time": "2020-10-21T06:35:12.482Z"
    }
   },
   "outputs": [
    {
     "name": "stderr",
     "output_type": "stream",
     "text": [
      "\n",
      "Attaching package: 'zoo'\n",
      "\n",
      "The following objects are masked from 'package:base':\n",
      "\n",
      "    as.Date, as.Date.numeric\n",
      "\n",
      "Loading required package: lattice\n",
      "Loading required package: survival\n",
      "Loading required package: Formula\n",
      "Loading required package: ggplot2\n",
      "Registered S3 methods overwritten by 'ggplot2':\n",
      "  method         from \n",
      "  [.quosures     rlang\n",
      "  c.quosures     rlang\n",
      "  print.quosures rlang\n",
      "\n",
      "Attaching package: 'Hmisc'\n",
      "\n",
      "The following objects are masked from 'package:base':\n",
      "\n",
      "    format.pval, units\n",
      "\n",
      "Warning message:\n",
      "\"package 'pracma' was built under R version 3.6.3\""
     ]
    }
   ],
   "source": [
    "#library(Hmisc)\n",
    "suppressWarnings(library(zoo))\n",
    "suppressWarnings(library(Hmisc))\n",
    "suppressMessages(library(pracma))\n"
   ]
  },
  {
   "cell_type": "markdown",
   "metadata": {},
   "source": [
    "### Read data"
   ]
  },
  {
   "cell_type": "code",
   "execution_count": 2,
   "metadata": {
    "ExecuteTime": {
     "end_time": "2020-10-21T06:35:14.072249Z",
     "start_time": "2020-10-21T06:35:12.484Z"
    }
   },
   "outputs": [],
   "source": [
    "df = read.table(\"airlines_passengers_data.csv\",sep=',',header=1)"
   ]
  },
  {
   "cell_type": "code",
   "execution_count": 3,
   "metadata": {
    "ExecuteTime": {
     "end_time": "2020-10-21T06:35:14.097249Z",
     "start_time": "2020-10-21T06:35:12.485Z"
    }
   },
   "outputs": [
    {
     "data": {
      "text/html": [
       "<table>\n",
       "<thead><tr><th scope=col>Month</th><th scope=col>Passengers</th></tr></thead>\n",
       "<tbody>\n",
       "\t<tr><td>1949-01</td><td>112    </td></tr>\n",
       "\t<tr><td>1949-02</td><td>118    </td></tr>\n",
       "\t<tr><td>1949-03</td><td>132    </td></tr>\n",
       "\t<tr><td>1949-04</td><td>129    </td></tr>\n",
       "\t<tr><td>1949-05</td><td>121    </td></tr>\n",
       "\t<tr><td>1949-06</td><td>135    </td></tr>\n",
       "</tbody>\n",
       "</table>\n"
      ],
      "text/latex": [
       "\\begin{tabular}{r|ll}\n",
       " Month & Passengers\\\\\n",
       "\\hline\n",
       "\t 1949-01 & 112    \\\\\n",
       "\t 1949-02 & 118    \\\\\n",
       "\t 1949-03 & 132    \\\\\n",
       "\t 1949-04 & 129    \\\\\n",
       "\t 1949-05 & 121    \\\\\n",
       "\t 1949-06 & 135    \\\\\n",
       "\\end{tabular}\n"
      ],
      "text/markdown": [
       "\n",
       "| Month | Passengers |\n",
       "|---|---|\n",
       "| 1949-01 | 112     |\n",
       "| 1949-02 | 118     |\n",
       "| 1949-03 | 132     |\n",
       "| 1949-04 | 129     |\n",
       "| 1949-05 | 121     |\n",
       "| 1949-06 | 135     |\n",
       "\n"
      ],
      "text/plain": [
       "  Month   Passengers\n",
       "1 1949-01 112       \n",
       "2 1949-02 118       \n",
       "3 1949-03 132       \n",
       "4 1949-04 129       \n",
       "5 1949-05 121       \n",
       "6 1949-06 135       "
      ]
     },
     "metadata": {},
     "output_type": "display_data"
    }
   ],
   "source": [
    "head(df)"
   ]
  },
  {
   "cell_type": "code",
   "execution_count": 4,
   "metadata": {
    "ExecuteTime": {
     "end_time": "2020-10-21T06:35:14.122250Z",
     "start_time": "2020-10-21T06:35:12.487Z"
    }
   },
   "outputs": [
    {
     "data": {
      "text/plain": [
       "df \n",
       "\n",
       " 2  Variables      144  Observations\n",
       "--------------------------------------------------------------------------------\n",
       "Month \n",
       "       n  missing distinct \n",
       "     144        0      144 \n",
       "\n",
       "lowest : 1949-01 1949-02 1949-03 1949-04 1949-05\n",
       "highest: 1960-08 1960-09 1960-10 1960-11 1960-12\n",
       "--------------------------------------------------------------------------------\n",
       "Passengers \n",
       "       n  missing distinct     Info     Mean      Gmd      .05      .10 \n",
       "     144        0      118        1    280.3    135.9    121.6    135.3 \n",
       "     .25      .50      .75      .90      .95 \n",
       "   180.0    265.5    360.5    453.2    488.1 \n",
       "\n",
       "lowest : 104 112 114 115 118, highest: 535 548 559 606 622\n",
       "--------------------------------------------------------------------------------"
      ]
     },
     "metadata": {},
     "output_type": "display_data"
    }
   ],
   "source": [
    "describe(df)"
   ]
  },
  {
   "cell_type": "code",
   "execution_count": 5,
   "metadata": {
    "ExecuteTime": {
     "end_time": "2020-10-21T06:35:14.144290Z",
     "start_time": "2020-10-21T06:35:12.489Z"
    }
   },
   "outputs": [],
   "source": [
    "# create date feature from year and month\n",
    "yr <- substr(df$Month,1,4)\n",
    "mo <- substr(df$Month,6,7)\n",
    "dates <- as.Date(paste(yr,mo,'01',sep=\"-\"))"
   ]
  },
  {
   "cell_type": "code",
   "execution_count": 6,
   "metadata": {
    "ExecuteTime": {
     "end_time": "2020-10-21T06:35:14.163288Z",
     "start_time": "2020-10-21T06:35:12.490Z"
    }
   },
   "outputs": [],
   "source": [
    "# create zoo object\n",
    "df_2 = zoo(df$Passengers,order.by=dates)"
   ]
  },
  {
   "cell_type": "code",
   "execution_count": 7,
   "metadata": {
    "ExecuteTime": {
     "end_time": "2020-10-21T06:35:14.226135Z",
     "start_time": "2020-10-21T06:35:12.491Z"
    }
   },
   "outputs": [
    {
     "data": {
      "image/png": "[encoded data removed]",
      "text/plain": [
       "Plot with title \"Airlines passengers across years\""
      ]
     },
     "metadata": {},
     "output_type": "display_data"
    }
   ],
   "source": [
    "# plot time series\n",
    "plot(df_2,xlab=\"Months\",ylab=\"# Passengers\",main=\"Airlines passengers across years\")"
   ]
  },
  {
   "cell_type": "code",
   "execution_count": 8,
   "metadata": {
    "ExecuteTime": {
     "end_time": "2020-10-21T06:35:14.246174Z",
     "start_time": "2020-10-21T06:35:12.492Z"
    }
   },
   "outputs": [],
   "source": [
    "# take log to remove increasing variance in seasonality\n",
    "df_2_log = zoo(log(df$Passengers),order.by=dates)"
   ]
  },
  {
   "cell_type": "code",
   "execution_count": 9,
   "metadata": {
    "ExecuteTime": {
     "end_time": "2020-10-21T06:35:14.310134Z",
     "start_time": "2020-10-21T06:35:12.493Z"
    }
   },
   "outputs": [
    {
     "data": {
      "image/png": "[encoded data removed]",
      "text/plain": [
       "Plot with title \"Airlines passengers across years\""
      ]
     },
     "metadata": {},
     "output_type": "display_data"
    }
   ],
   "source": [
    "# plot time series\n",
    "plot(df_2_log,xlab=\"Months\",ylab=\"# Passengers\",main=\"Airlines passengers across years\")"
   ]
  },
  {
   "cell_type": "code",
   "execution_count": 10,
   "metadata": {
    "ExecuteTime": {
     "end_time": "2020-10-21T06:35:14.339136Z",
     "start_time": "2020-10-21T06:35:12.494Z"
    }
   },
   "outputs": [],
   "source": [
    "# par(mfrow=c(2,2))\n",
    "# plot(df_2_log[1:12],xlab=\"Months\",ylab=\"# Passengers\",main=min(yr[1:12]))\n",
    "# plot(df_2_log[13:24],xlab=\"Months\",ylab=\"# Passengers\",main=min(yr[13:24]))\n",
    "# plot(df_2_log[25:36],xlab=\"Months\",ylab=\"# Passengers\",main=min(yr[25:36]))\n",
    "# plot(df_2_log[37:48],xlab=\"Months\",ylab=\"# Passengers\",main=min(yr[37:48]))"
   ]
  },
  {
   "cell_type": "markdown",
   "metadata": {
    "ExecuteTime": {
     "end_time": "2020-10-20T15:11:47.923619Z",
     "start_time": "2020-10-20T15:11:47.905Z"
    }
   },
   "source": [
    "### Calculating Periodogram by hand"
   ]
  },
  {
   "cell_type": "code",
   "execution_count": 11,
   "metadata": {
    "ExecuteTime": {
     "end_time": "2020-10-21T06:35:14.363137Z",
     "start_time": "2020-10-21T06:35:12.496Z"
    }
   },
   "outputs": [
    {
     "data": {
      "text/html": [
       "<table>\n",
       "<thead><tr><th scope=col>Passengers</th></tr></thead>\n",
       "<tbody>\n",
       "\t<tr><td>-0.105217793</td></tr>\n",
       "\t<tr><td>-0.063080421</td></tr>\n",
       "\t<tr><td> 0.038988495</td></tr>\n",
       "\t<tr><td> 0.005950595</td></tr>\n",
       "\t<tr><td>-0.068119645</td></tr>\n",
       "\t<tr><td> 0.031316206</td></tr>\n",
       "</tbody>\n",
       "</table>\n"
      ],
      "text/latex": [
       "\\begin{tabular}{r|l}\n",
       " Passengers\\\\\n",
       "\\hline\n",
       "\t -0.105217793\\\\\n",
       "\t -0.063080421\\\\\n",
       "\t  0.038988495\\\\\n",
       "\t  0.005950595\\\\\n",
       "\t -0.068119645\\\\\n",
       "\t  0.031316206\\\\\n",
       "\\end{tabular}\n"
      ],
      "text/markdown": [
       "\n",
       "| Passengers |\n",
       "|---|\n",
       "| -0.105217793 |\n",
       "| -0.063080421 |\n",
       "|  0.038988495 |\n",
       "|  0.005950595 |\n",
       "| -0.068119645 |\n",
       "|  0.031316206 |\n",
       "\n"
      ],
      "text/plain": [
       "  Passengers  \n",
       "1 -0.105217793\n",
       "2 -0.063080421\n",
       "3  0.038988495\n",
       "4  0.005950595\n",
       "5 -0.068119645\n",
       "6  0.031316206"
      ]
     },
     "metadata": {},
     "output_type": "display_data"
    }
   ],
   "source": [
    "# remove trend from data\n",
    "df_detrend = data.frame(\"Passengers\"=detrend(log(df$Passengers), 'linear'))\n",
    "head(df_detrend)"
   ]
  },
  {
   "cell_type": "code",
   "execution_count": 12,
   "metadata": {
    "ExecuteTime": {
     "end_time": "2020-10-21T06:35:14.384144Z",
     "start_time": "2020-10-21T06:35:12.497Z"
    }
   },
   "outputs": [],
   "source": [
    "# create zoo object\n",
    "df_detrend = zoo(df_detrend$Passengers,order.by=dates)"
   ]
  },
  {
   "cell_type": "code",
   "execution_count": 13,
   "metadata": {
    "ExecuteTime": {
     "end_time": "2020-10-21T06:35:14.444138Z",
     "start_time": "2020-10-21T06:35:12.498Z"
    }
   },
   "outputs": [
    {
     "data": {
      "image/png": "[encoded data removed]",
      "text/plain": [
       "Plot with title \"\""
      ]
     },
     "metadata": {},
     "output_type": "display_data"
    }
   ],
   "source": [
    "# plot detrended time series\n",
    "plot(df_detrend)"
   ]
  },
  {
   "cell_type": "markdown",
   "metadata": {},
   "source": [
    "### Fourier transform"
   ]
  },
  {
   "cell_type": "code",
   "execution_count": 16,
   "metadata": {
    "ExecuteTime": {
     "end_time": "2020-10-21T06:35:37.740809Z",
     "start_time": "2020-10-21T06:35:37.716Z"
    }
   },
   "outputs": [
    {
     "data": {
      "text/plain": [
       "                 1949-01-01                  1949-02-01 \n",
       "-2.042810e-14+0.000000e+00i -3.413459e+00+1.836112e-01i\n",
       "                 1949-03-01                  1949-04-01 \n",
       "-1.385319e+00-5.684846e-01i  1.836019e+00+1.359261e+00i\n",
       "                 1949-05-01                  1949-06-01 \n",
       " 8.815098e-02+2.633051e-02i  1.121880e-01+7.153653e-01i\n",
       "                 1949-07-01                  1949-08-01 \n",
       " 6.001707e-01-9.846591e-01i  2.247522e-02-5.483008e-01i\n",
       "                 1949-09-01                  1949-10-01 \n",
       " 2.532679e-01+4.666718e-01i  1.001089e-01-3.796122e-01i"
      ]
     },
     "metadata": {},
     "output_type": "display_data"
    }
   ],
   "source": [
    "# get fourier transform of time series\n",
    "fft_df = fft(df_detrend)\n",
    "fft_df[1:10]\n",
    "n = length(fft_df)"
   ]
  },
  {
   "cell_type": "code",
   "execution_count": 17,
   "metadata": {
    "ExecuteTime": {
     "end_time": "2020-10-21T06:35:38.234997Z",
     "start_time": "2020-10-21T06:35:38.213Z"
    }
   },
   "outputs": [
    {
     "name": "stdout",
     "output_type": "stream",
     "text": [
      "[1] \"2nd Fourier coefficient \"            \"-3.41345865984196+0.18361121180606i\"\n",
      "[3] \"144th Fourier coefficient \"          \"-3.41345865984196-0.18361121180607i\"\n",
      "[1] \"3rd Fourier coefficient \"            \"-1.38531925117481-0.56848455637024i\"\n",
      "[3] \"143th Fourier coefficient \"          \"-1.38531925117481+0.56848455637024i\"\n"
     ]
    }
   ],
   "source": [
    "# FFT values are symmetric\n",
    "print(paste(c(\"2nd Fourier coefficient \" ,as.character(fft_df[2]) ,\"144th Fourier coefficient \" ,as.character(fft_df[n]))))\n",
    "print(paste(c(\"3rd Fourier coefficient \" ,as.character(fft_df[3]) ,\"143th Fourier coefficient \" ,as.character(fft_df[n-1]))))\n"
   ]
  },
  {
   "cell_type": "code",
   "execution_count": 18,
   "metadata": {
    "ExecuteTime": {
     "end_time": "2020-10-21T06:35:39.096653Z",
     "start_time": "2020-10-21T06:35:39.077Z"
    }
   },
   "outputs": [],
   "source": [
    "# FFT values are symmetric hence we only consider the fourier coffecicients till (n+1)/2 and multiply by 2\n",
    "\n",
    "periodogram = (abs(fft_df)^2)/n\n",
    "periodogram = 2*periodogram[1:((n+1)/2)]"
   ]
  },
  {
   "cell_type": "code",
   "execution_count": 19,
   "metadata": {
    "ExecuteTime": {
     "end_time": "2020-10-21T06:35:41.868362Z",
     "start_time": "2020-10-21T06:35:41.811Z"
    }
   },
   "outputs": [
    {
     "data": {
      "image/png": "[encoded data removed]",
      "text/plain": [
       "plot without title"
      ]
     },
     "metadata": {},
     "output_type": "display_data"
    }
   ],
   "source": [
    "# plot periodogram\n",
    "spec_freq =(0:((n+1)/2-1))/n\n",
    "spec_perdiodogram = periodogram\n",
    "plot(spec_freq, spec_perdiodogram, xlab=\"Cycles per year\", ylab=\"Spectral Density\", type=\"l\")"
   ]
  },
  {
   "cell_type": "markdown",
   "metadata": {},
   "source": [
    "The data shows spikes at 1 cycle per year and 2 cycle per year, which can be interpreted as an annual cycle that repeats once every year and there is a 6 month cycle that repeats twice each year."
   ]
  },
  {
   "cell_type": "markdown",
   "metadata": {},
   "source": [
    "### Spectral Analysis\n",
    "\n",
    "**Spectrum** function in R removes any linear trend in data and estimates the strength at each frequency also known as the periodogram.\n",
    "\n",
    "Documenatation :\n",
    "https://www.rdocumentation.org/packages/stats/versions/3.6.2/topics/spectrum\n"
   ]
  },
  {
   "cell_type": "code",
   "execution_count": 20,
   "metadata": {
    "ExecuteTime": {
     "end_time": "2020-10-21T06:36:06.265229Z",
     "start_time": "2020-10-21T06:36:06.197Z"
    }
   },
   "outputs": [
    {
     "data": {
      "image/png": "[encoded data removed]",
      "text/plain": [
       "Plot with title \"Periodogram\""
      ]
     },
     "metadata": {},
     "output_type": "display_data"
    }
   ],
   "source": [
    "density_spectrum <- spectrum(log(df$Passengers),log='no',main=\"Periodogram\",taper=0)\n",
    "n = length(df$Passengers)"
   ]
  },
  {
   "cell_type": "markdown",
   "metadata": {},
   "source": [
    "The frequency is number of cycles per observations, this is equivalent to cycles per month in this case as data in months.\n",
    "\n",
    "We can convert this to cycles per quarter or cycles per year as well."
   ]
  },
  {
   "cell_type": "code",
   "execution_count": 21,
   "metadata": {
    "ExecuteTime": {
     "end_time": "2020-10-21T06:36:10.412441Z",
     "start_time": "2020-10-21T06:36:10.356Z"
    }
   },
   "outputs": [
    {
     "data": {
      "image/png": "[encoded data removed]",
      "text/plain": [
       "plot without title"
      ]
     },
     "metadata": {},
     "output_type": "display_data"
    }
   ],
   "source": [
    "# frequency as cycles per year\n",
    "sampling_freq = 12\n",
    "spec_freq = density_spectrum$freq * sampling_freq\n",
    "spec_perdiodogram = 2 * density_spectrum$spec\n",
    "plot(spec_freq, spec_perdiodogram, xlab=\"Cycles per year\", ylab=\"Periodogram\", type=\"l\")"
   ]
  },
  {
   "cell_type": "code",
   "execution_count": null,
   "metadata": {},
   "outputs": [],
   "source": []
  },
  {
   "cell_type": "code",
   "execution_count": null,
   "metadata": {},
   "outputs": [],
   "source": []
  }
 ],
 "metadata": {
  "kernelspec": {
   "display_name": "R",
   "language": "R",
   "name": "ir"
  },
  "language_info": {
   "codemirror_mode": "r",
   "file_extension": ".r",
   "mimetype": "text/x-r-source",
   "name": "R",
   "pygments_lexer": "r",
   "version": "3.6.1"
  },
  "toc": {
   "base_numbering": 1,
   "nav_menu": {},
   "number_sections": true,
   "sideBar": true,
   "skip_h1_title": false,
   "title_cell": "Table of Contents",
   "title_sidebar": "Contents",
   "toc_cell": false,
   "toc_position": {
    "height": "calc(100% - 180px)",
    "left": "10px",
    "top": "150px",
    "width": "384px"
   },
   "toc_section_display": true,
   "toc_window_display": true
  }
 },
 "nbformat": 4,
 "nbformat_minor": 4
}
